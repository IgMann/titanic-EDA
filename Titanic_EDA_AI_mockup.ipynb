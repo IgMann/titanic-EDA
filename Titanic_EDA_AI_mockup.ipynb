{
 "cells": [
  {
   "cell_type": "markdown",
   "metadata": {},
   "source": [
    "## Libraries importing"
   ]
  },
  {
   "cell_type": "code",
   "execution_count": null,
   "metadata": {},
   "outputs": [],
   "source": [
    "# Importing basic libraries\n",
    "import os\n",
    "import pandas as pd\n",
    "import numpy as np\n",
    "import matplotlib as plt\n",
    "\n",
    "# Importing dataset\n",
    "import urllib.request\n",
    "\n",
    "# Importing visualization tools\n",
    "from matplotlib import pyplot\n",
    "\n",
    "# Importing pandas AI models\n",
    "from pandasai import PandasAI\n",
    "from pandasai.llm.openai import OpenAI\n",
    "from pandasai.llm.starcoder import Starcoder\n",
    "from pandasai.llm.open_assistant import OpenAssistant\n",
    "from pandasai.llm.falcon import Falcon"
   ]
  },
  {
   "cell_type": "markdown",
   "metadata": {},
   "source": [
    "## Constants"
   ]
  },
  {
   "cell_type": "code",
   "execution_count": null,
   "metadata": {},
   "outputs": [],
   "source": [
    "URL = \"https://raw.githubusercontent.com/datasciencedojo/datasets/master/titanic.csv\"\n",
    "\n",
    "FILE_PATH = \"titanic.csv\"\n",
    "\n",
    "OPENAI_API_KEY = \"OPENAI_API_KEY\"\n",
    "\n",
    "HUGGING_FACE_API_KEY = \"HUGGING_FACE_API_KEY\"\n",
    "\n",
    "QUESTION = \"What are unique values for column Sex?\"\n",
    "# QUESTION = \"What gender of passangers had higher probability to survive?\""
   ]
  },
  {
   "cell_type": "markdown",
   "metadata": {},
   "source": [
    "## Loading data"
   ]
  },
  {
   "cell_type": "code",
   "execution_count": null,
   "metadata": {},
   "outputs": [],
   "source": [
    "urllib.request.urlretrieve(URL, FILE_PATH)\n",
    "\n",
    "df = pd.read_csv(FILE_PATH)"
   ]
  },
  {
   "cell_type": "markdown",
   "metadata": {},
   "source": [
    "## Dataset visualization"
   ]
  },
  {
   "cell_type": "code",
   "execution_count": null,
   "metadata": {},
   "outputs": [],
   "source": [
    "df.head()"
   ]
  },
  {
   "cell_type": "markdown",
   "metadata": {},
   "source": [
    "## Dataset analysis with Pandas AI tool "
   ]
  },
  {
   "cell_type": "markdown",
   "metadata": {},
   "source": [
    "### Dataset analysis with OpenAI's ChatGPT"
   ]
  },
  {
   "cell_type": "code",
   "execution_count": null,
   "metadata": {},
   "outputs": [],
   "source": [
    "pandas_ai_chatgpt = PandasAI(OpenAI(api_token=OPENAI_API_KEY))\n",
    "\n",
    "pandas_ai_chatgpt.run(df, prompt=QUESTION)"
   ]
  },
  {
   "cell_type": "markdown",
   "metadata": {},
   "source": [
    "### Dataset analysis with HuggingFace's Starcoder"
   ]
  },
  {
   "cell_type": "code",
   "execution_count": null,
   "metadata": {},
   "outputs": [],
   "source": [
    "pandas_ai_chatgpt = PandasAI(Starcoder(api_token=HUGGING_FACE_API_KEY))\n",
    "\n",
    "pandas_ai_chatgpt.run(df, prompt=QUESTION)"
   ]
  },
  {
   "cell_type": "markdown",
   "metadata": {},
   "source": [
    "### Dataset analysis with HuggingFace's OpenAssistant"
   ]
  },
  {
   "cell_type": "code",
   "execution_count": null,
   "metadata": {},
   "outputs": [],
   "source": [
    "pandas_ai_chatgpt = PandasAI(OpenAssistant(api_token=HUGGING_FACE_API_KEY))\n",
    "\n",
    "pandas_ai_chatgpt.run(df, prompt=QUESTION)"
   ]
  },
  {
   "cell_type": "markdown",
   "metadata": {},
   "source": [
    "### Dataset analysis with HuggingFace's Falcon"
   ]
  },
  {
   "cell_type": "code",
   "execution_count": null,
   "metadata": {},
   "outputs": [],
   "source": [
    "pandas_ai_chatgpt = PandasAI(Falcon(api_token=HUGGING_FACE_API_KEY))\n",
    "\n",
    "pandas_ai_chatgpt.run(df, prompt=QUESTION)"
   ]
  }
 ],
 "metadata": {
  "kernelspec": {
   "display_name": "Python 3 (ipykernel)",
   "language": "python",
   "name": "python3"
  },
  "language_info": {
   "codemirror_mode": {
    "name": "ipython",
    "version": 3
   },
   "file_extension": ".py",
   "mimetype": "text/x-python",
   "name": "python",
   "nbconvert_exporter": "python",
   "pygments_lexer": "ipython3",
   "version": "3.9.13"
  },
  "orig_nbformat": 4
 },
 "nbformat": 4,
 "nbformat_minor": 2
}
